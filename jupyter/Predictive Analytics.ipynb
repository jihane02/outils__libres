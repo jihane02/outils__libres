{
 "cells": [
  {
   "cell_type": "code",
   "execution_count": null,
   "id": "b56b8bb7",
   "metadata": {},
   "outputs": [],
   "source": [
    "#Importation des bibliothèques nécessaires"
   ]
  },
  {
   "cell_type": "code",
   "execution_count": null,
   "id": "d6da5ad4",
   "metadata": {},
   "outputs": [],
   "source": [
    "import pandas as pd\n",
    "import numpy as np\n",
    "from scipy import stats\n",
    "from sklearn.preprocessing import StandardScaler, LabelEncoder\n",
    "from sklearn.cluster import KMeans\n",
    "from sklearn.metrics import silhouette_score, mean_squared_error, r2_score\n",
    "from sklearn.decomposition import PCA\n",
    "from sklearn.model_selection import train_test_split\n",
    "from sklearn.linear_model import LinearRegression\n",
    "import matplotlib.pyplot as plt\n",
    "import seaborn as sns"
   ]
  },
  {
   "cell_type": "code",
   "execution_count": null,
   "id": "c829daaf-63db-44aa-baf1-8fa946b75ff5",
   "metadata": {},
   "outputs": [],
   "source": [
    "from sqlalchemy import create_engine\n",
    "\n",
    "# Database connection details - replace these with your own\n",
    "database_username = 'postgres'\n",
    "database_password = '123456'\n",
    "database_ip       = '172.26.0.2'\n",
    "database_name     = 'airbnb_paris'\n",
    "database_port     = '5432'\n",
    "\n",
    "# SQLAlchemy engine for PostgreSQL\n",
    "engine = create_engine(f'postgresql://{database_username}:{database_password}@{database_ip}:{database_port}/{database_name}')\n"
   ]
  },
  {
   "cell_type": "markdown",
   "id": "7a05b837",
   "metadata": {},
   "source": [
    "Chargeement le dataset"
   ]
  },
  {
   "cell_type": "code",
   "execution_count": null,
   "id": "46e0a2bd",
   "metadata": {},
   "outputs": [],
   "source": [
    "# Chargement et préparation du dataset\n",
    "\n",
    "\n",
    "query = \"SELECT * FROM listing\"  # Replace 'your_table_name' with the name of your table\n",
    "df = pd.read_sql(query, engine)\n",
    "\n",
    "print(\"Forme du jeu de données avant le nettoyage: \", df.shape)"
   ]
  },
  {
   "cell_type": "markdown",
   "id": "652d9a03",
   "metadata": {},
   "source": [
    "Partie 1: Analyse du Jeu de Données"
   ]
  },
  {
   "cell_type": "code",
   "execution_count": null,
   "id": "b456f72f",
   "metadata": {},
   "outputs": [],
   "source": [
    "\n",
    "# Suppression des colonnes non pertinentes"
   ]
  },
  {
   "cell_type": "code",
   "execution_count": null,
   "id": "d7e98fec",
   "metadata": {},
   "outputs": [],
   "source": [
    "columns_to_drop = ['ID', 'Listing Url', 'Scrape ID', 'Last Scraped', 'Name', 'Summary',\n",
    "       'Space', 'Description', 'Experiences Offered', 'Neighborhood Overview',\n",
    "       'Notes', 'Transit', 'Access', 'Interaction', 'House Rules',\n",
    "       'Thumbnail Url', 'Medium Url', 'Picture Url', 'XL Picture Url',\n",
    "       'Host ID', 'Host URL', 'Host Name', 'Host Since', 'Host Location',\n",
    "       'Host About', 'Host Response Time', 'Host Response Rate',\n",
    "       'Host Acceptance Rate', 'Host Thumbnail Url', 'Host Picture Url',\n",
    "       'Host Neighbourhood', 'Host Listings Count',\n",
    "       'Host Total Listings Count', 'Host Verifications', 'Street',\n",
    "       'Neighbourhood', 'Neighbourhood Cleansed',\n",
    "       'Neighbourhood Group Cleansed', 'City', 'State', 'Zipcode', 'Market',\n",
    "       'Smart Location', 'Country Code', 'Country', 'Latitude', 'Longitude',\n",
    "        'Room Type','Bed Type', 'Amenities', 'Square Feet', 'Price', 'Weekly Price',\n",
    "       'Monthly Price', 'Security Deposit', 'Cleaning Fee', 'Guests Included',\n",
    "       'Extra People', 'Minimum Nights', 'Maximum Nights', 'Calendar Updated',\n",
    "       'Has Availability', 'Availability 30', 'Availability 60',\n",
    "       'Availability 90', 'Availability 365', 'Calendar last Scraped',\n",
    "       'Number of Reviews', 'First Review', 'Last Review',\n",
    "       'Review Scores Accuracy',\n",
    "       'Review Scores Cleanliness', 'Review Scores Checkin',\n",
    "       'Review Scores Communication', 'Review Scores Location',\n",
    "       'Review Scores Value', 'License', 'Jurisdiction Names',\n",
    "       'Cancellation Policy', 'Calculated host listings count',\n",
    "       'Reviews per Month', 'Geolocation', 'Features']\n",
    "\n",
    "df.drop(columns=columns_to_drop, inplace=True)\n",
    "df.drop_duplicates(inplace=True)"
   ]
  },
  {
   "cell_type": "code",
   "execution_count": null,
   "id": "e2bfff0f",
   "metadata": {},
   "outputs": [],
   "source": [
    "df.head(1)"
   ]
  },
  {
   "cell_type": "code",
   "execution_count": null,
   "id": "0ad288a9",
   "metadata": {},
   "outputs": [],
   "source": [
    "# Traitement des valeurs manquantes\n",
    "df.dropna(inplace=True)\n",
    "print(\"Forme de l'ensemble de données après nettoyage: \", df.shape)"
   ]
  },
  {
   "cell_type": "code",
   "execution_count": null,
   "id": "768d68a5",
   "metadata": {},
   "outputs": [],
   "source": [
    "# Encodage des caractéristiques catégorielles\n",
    "encoder = LabelEncoder()\n",
    "df['Property Type Encoded'] = encoder.fit_transform(df['Property Type'])\n"
   ]
  },
  {
   "cell_type": "code",
   "execution_count": null,
   "id": "f24a69ae",
   "metadata": {},
   "outputs": [],
   "source": [
    "# Statistiques descriptives\n",
    "print(df.describe())\n"
   ]
  },
  {
   "cell_type": "code",
   "execution_count": null,
   "id": "814e2a62",
   "metadata": {},
   "outputs": [],
   "source": [
    "# Normalisation des données numériques\n",
    "scaler = StandardScaler()\n",
    "cols_numeriques = df.select_dtypes(include=[np.number]).columns.tolist()\n",
    "data_normalized = scaler.fit_transform(df[cols_numeriques])"
   ]
  },
  {
   "cell_type": "code",
   "execution_count": null,
   "id": "70285888",
   "metadata": {},
   "outputs": [],
   "source": [
    "n_cols = 3\n",
    "n_rows = (len(cols_numeriques) + n_cols - 1) // n_cols\n",
    "\n",
    "plt.figure(figsize=(n_cols * 5, n_rows * 4))  # La taille de chaque subplot est de 5x4\n",
    "\n",
    "for i, col in enumerate(cols_numeriques, 1):  # Commence l'indexation à 1 pour les subplots\n",
    "    plt.subplot(n_rows, n_cols, i)\n",
    "    sns.histplot(df[col], kde=True, bins=30)\n",
    "    plt.title(f'Distribution de {col}')\n",
    "\n",
    "plt.tight_layout()  # Ajuste automatiquement les paramètres de subplot pour donner un padding spécifié\n",
    "plt.show()"
   ]
  },
  {
   "cell_type": "code",
   "execution_count": null,
   "id": "94f3b207",
   "metadata": {},
   "outputs": [],
   "source": [
    "# Visualisation de la corrélation entre les variables\n",
    "plt.figure(figsize=(10, 8))\n",
    "correlation_matrix = df[cols_numeriques].corr()\n",
    "sns.heatmap(correlation_matrix, annot=True, cmap='coolwarm', fmt=\".2f\")\n",
    "plt.title('Matrice de corrélation')\n",
    "plt.show()"
   ]
  },
  {
   "cell_type": "code",
   "execution_count": null,
   "id": "6df368be",
   "metadata": {},
   "outputs": [],
   "source": [
    "# Réduction de dimensionnalité avec PCA\n",
    "pca = PCA(n_components=2)\n",
    "data_pca = pca.fit_transform(data_normalized)\n",
    "# Visualisation PCA\n",
    "plt.figure(figsize=(10, 7))\n",
    "sns.scatterplot(x=data_pca[:, 0], y=data_pca[:, 1], hue=df['Property Type'], palette='viridis')\n",
    "plt.title('Visualisation PCA des données Airbnb')\n",
    "plt.xlabel('Composante Principale 1')\n",
    "plt.ylabel('Composante Principale 2')\n",
    "plt.legend(title='Type de Propriété', bbox_to_anchor=(1.05, 1), loc='upper left')\n",
    "plt.tight_layout()\n",
    "plt.show()"
   ]
  },
  {
   "cell_type": "code",
   "execution_count": null,
   "id": "059d0efb",
   "metadata": {},
   "outputs": [],
   "source": [
    "# Prédiction avec Régression Linéaire\n",
    "X = df[cols_numeriques].drop('Review Scores Rating', axis=1)  # Exclure la cible de la prédiction\n",
    "y = df['Review Scores Rating']\n",
    "X_train, X_test, y_train, y_test = train_test_split(X, y, test_size=0.2, random_state=42)\n",
    "regressor = LinearRegression()\n",
    "regressor.fit(X_train, y_train)\n",
    "y_pred = regressor.predict(X_test)\n",
    "print(f\"MSE: {mean_squared_error(y_test, y_pred)}\")\n",
    "print(f\"R^2: {r2_score(y_test, y_pred)}\")\n"
   ]
  },
  {
   "cell_type": "code",
   "execution_count": null,
   "id": "f558a884",
   "metadata": {},
   "outputs": [],
   "source": [
    "# Clustering avec K-Means\n",
    "kmeans = KMeans(n_clusters=5, n_init=10, random_state=42)\n",
    "kmeans.fit(data_normalized)\n",
    "labels = kmeans.labels_\n",
    "print(f\"Silhouette Score: {silhouette_score(data_normalized, labels)}\")"
   ]
  },
  {
   "cell_type": "code",
   "execution_count": null,
   "id": "62494a2c",
   "metadata": {},
   "outputs": [],
   "source": [
    "# Visualisation des clusters formés par K-Means avec PCA\n",
    "plt.figure(figsize=(10, 7))\n",
    "sns.scatterplot(x=data_pca[:, 0], y=data_pca[:, 1], hue=labels, palette='viridis')\n",
    "plt.title('Clusters K-Means avec PCA')\n",
    "plt.xlabel('Première Composante Principale')\n",
    "plt.ylabel('Deuxième Composante Principale')\n",
    "plt.legend(title='Cluster', bbox_to_anchor=(1.05, 1), loc='upper left')\n",
    "plt.tight_layout()\n",
    "plt.show()"
   ]
  }
 ],
 "metadata": {
  "kernelspec": {
   "display_name": "Python 3 (ipykernel)",
   "language": "python",
   "name": "python3"
  },
  "language_info": {
   "codemirror_mode": {
    "name": "ipython",
    "version": 3
   },
   "file_extension": ".py",
   "mimetype": "text/x-python",
   "name": "python",
   "nbconvert_exporter": "python",
   "pygments_lexer": "ipython3",
   "version": "3.11.6"
  }
 },
 "nbformat": 4,
 "nbformat_minor": 5
}
